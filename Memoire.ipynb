{
  "nbformat": 4,
  "nbformat_minor": 0,
  "metadata": {
    "colab": {
      "name": "Memoire.ipynb",
      "provenance": [],
      "collapsed_sections": [],
      "authorship_tag": "ABX9TyPy/UaR/Ng1Xjxp4EgtzPBu",
      "include_colab_link": true
    },
    "kernelspec": {
      "name": "python3",
      "display_name": "Python 3"
    },
    "language_info": {
      "name": "python"
    }
  },
  "cells": [
    {
      "cell_type": "markdown",
      "metadata": {
        "id": "view-in-github",
        "colab_type": "text"
      },
      "source": [
        "<a href=\"https://colab.research.google.com/github/AKKOURA/ApplicationWeb_Netflix/blob/master/Memoire.ipynb\" target=\"_parent\"><img src=\"https://colab.research.google.com/assets/colab-badge.svg\" alt=\"Open In Colab\"/></a>"
      ]
    },
    {
      "cell_type": "code",
      "execution_count": 1,
      "metadata": {
        "id": "p8INfzdZ32q6"
      },
      "outputs": [],
      "source": [
        "#Import Essential Libraries\n",
        "import pandas as pd\n",
        "import seaborn as sns\n",
        "import matplotlib.pyplot as plt\n",
        "import io \n"
      ]
    },
    {
      "cell_type": "code",
      "source": [
        "import tensorflow as tf\n",
        "print(tf.__version__)\n"
      ],
      "metadata": {
        "colab": {
          "base_uri": "https://localhost:8080/"
        },
        "id": "Wge41njBAm-m",
        "outputId": "212c7b59-acd7-424d-a01f-22fe2184dcfc"
      },
      "execution_count": 2,
      "outputs": [
        {
          "output_type": "stream",
          "name": "stdout",
          "text": [
            "2.8.0\n"
          ]
        }
      ]
    },
    {
      "cell_type": "code",
      "source": [
        "from google.colab import files \n",
        "  \n",
        "  \n",
        "uploaded = files.upload()"
      ],
      "metadata": {
        "colab": {
          "resources": {
            "http://localhost:8080/nbextensions/google.colab/files.js": {
              "data": "Ly8gQ29weXJpZ2h0IDIwMTcgR29vZ2xlIExMQwovLwovLyBMaWNlbnNlZCB1bmRlciB0aGUgQXBhY2hlIExpY2Vuc2UsIFZlcnNpb24gMi4wICh0aGUgIkxpY2Vuc2UiKTsKLy8geW91IG1heSBub3QgdXNlIHRoaXMgZmlsZSBleGNlcHQgaW4gY29tcGxpYW5jZSB3aXRoIHRoZSBMaWNlbnNlLgovLyBZb3UgbWF5IG9idGFpbiBhIGNvcHkgb2YgdGhlIExpY2Vuc2UgYXQKLy8KLy8gICAgICBodHRwOi8vd3d3LmFwYWNoZS5vcmcvbGljZW5zZXMvTElDRU5TRS0yLjAKLy8KLy8gVW5sZXNzIHJlcXVpcmVkIGJ5IGFwcGxpY2FibGUgbGF3IG9yIGFncmVlZCB0byBpbiB3cml0aW5nLCBzb2Z0d2FyZQovLyBkaXN0cmlidXRlZCB1bmRlciB0aGUgTGljZW5zZSBpcyBkaXN0cmlidXRlZCBvbiBhbiAiQVMgSVMiIEJBU0lTLAovLyBXSVRIT1VUIFdBUlJBTlRJRVMgT1IgQ09ORElUSU9OUyBPRiBBTlkgS0lORCwgZWl0aGVyIGV4cHJlc3Mgb3IgaW1wbGllZC4KLy8gU2VlIHRoZSBMaWNlbnNlIGZvciB0aGUgc3BlY2lmaWMgbGFuZ3VhZ2UgZ292ZXJuaW5nIHBlcm1pc3Npb25zIGFuZAovLyBsaW1pdGF0aW9ucyB1bmRlciB0aGUgTGljZW5zZS4KCi8qKgogKiBAZmlsZW92ZXJ2aWV3IEhlbHBlcnMgZm9yIGdvb2dsZS5jb2xhYiBQeXRob24gbW9kdWxlLgogKi8KKGZ1bmN0aW9uKHNjb3BlKSB7CmZ1bmN0aW9uIHNwYW4odGV4dCwgc3R5bGVBdHRyaWJ1dGVzID0ge30pIHsKICBjb25zdCBlbGVtZW50ID0gZG9jdW1lbnQuY3JlYXRlRWxlbWVudCgnc3BhbicpOwogIGVsZW1lbnQudGV4dENvbnRlbnQgPSB0ZXh0OwogIGZvciAoY29uc3Qga2V5IG9mIE9iamVjdC5rZXlzKHN0eWxlQXR0cmlidXRlcykpIHsKICAgIGVsZW1lbnQuc3R5bGVba2V5XSA9IHN0eWxlQXR0cmlidXRlc1trZXldOwogIH0KICByZXR1cm4gZWxlbWVudDsKfQoKLy8gTWF4IG51bWJlciBvZiBieXRlcyB3aGljaCB3aWxsIGJlIHVwbG9hZGVkIGF0IGEgdGltZS4KY29uc3QgTUFYX1BBWUxPQURfU0laRSA9IDEwMCAqIDEwMjQ7CgpmdW5jdGlvbiBfdXBsb2FkRmlsZXMoaW5wdXRJZCwgb3V0cHV0SWQpIHsKICBjb25zdCBzdGVwcyA9IHVwbG9hZEZpbGVzU3RlcChpbnB1dElkLCBvdXRwdXRJZCk7CiAgY29uc3Qgb3V0cHV0RWxlbWVudCA9IGRvY3VtZW50LmdldEVsZW1lbnRCeUlkKG91dHB1dElkKTsKICAvLyBDYWNoZSBzdGVwcyBvbiB0aGUgb3V0cHV0RWxlbWVudCB0byBtYWtlIGl0IGF2YWlsYWJsZSBmb3IgdGhlIG5leHQgY2FsbAogIC8vIHRvIHVwbG9hZEZpbGVzQ29udGludWUgZnJvbSBQeXRob24uCiAgb3V0cHV0RWxlbWVudC5zdGVwcyA9IHN0ZXBzOwoKICByZXR1cm4gX3VwbG9hZEZpbGVzQ29udGludWUob3V0cHV0SWQpOwp9CgovLyBUaGlzIGlzIHJvdWdobHkgYW4gYXN5bmMgZ2VuZXJhdG9yIChub3Qgc3VwcG9ydGVkIGluIHRoZSBicm93c2VyIHlldCksCi8vIHdoZXJlIHRoZXJlIGFyZSBtdWx0aXBsZSBhc3luY2hyb25vdXMgc3RlcHMgYW5kIHRoZSBQeXRob24gc2lkZSBpcyBnb2luZwovLyB0byBwb2xsIGZvciBjb21wbGV0aW9uIG9mIGVhY2ggc3RlcC4KLy8gVGhpcyB1c2VzIGEgUHJvbWlzZSB0byBibG9jayB0aGUgcHl0aG9uIHNpZGUgb24gY29tcGxldGlvbiBvZiBlYWNoIHN0ZXAsCi8vIHRoZW4gcGFzc2VzIHRoZSByZXN1bHQgb2YgdGhlIHByZXZpb3VzIHN0ZXAgYXMgdGhlIGlucHV0IHRvIHRoZSBuZXh0IHN0ZXAuCmZ1bmN0aW9uIF91cGxvYWRGaWxlc0NvbnRpbnVlKG91dHB1dElkKSB7CiAgY29uc3Qgb3V0cHV0RWxlbWVudCA9IGRvY3VtZW50LmdldEVsZW1lbnRCeUlkKG91dHB1dElkKTsKICBjb25zdCBzdGVwcyA9IG91dHB1dEVsZW1lbnQuc3RlcHM7CgogIGNvbnN0IG5leHQgPSBzdGVwcy5uZXh0KG91dHB1dEVsZW1lbnQubGFzdFByb21pc2VWYWx1ZSk7CiAgcmV0dXJuIFByb21pc2UucmVzb2x2ZShuZXh0LnZhbHVlLnByb21pc2UpLnRoZW4oKHZhbHVlKSA9PiB7CiAgICAvLyBDYWNoZSB0aGUgbGFzdCBwcm9taXNlIHZhbHVlIHRvIG1ha2UgaXQgYXZhaWxhYmxlIHRvIHRoZSBuZXh0CiAgICAvLyBzdGVwIG9mIHRoZSBnZW5lcmF0b3IuCiAgICBvdXRwdXRFbGVtZW50Lmxhc3RQcm9taXNlVmFsdWUgPSB2YWx1ZTsKICAgIHJldHVybiBuZXh0LnZhbHVlLnJlc3BvbnNlOwogIH0pOwp9CgovKioKICogR2VuZXJhdG9yIGZ1bmN0aW9uIHdoaWNoIGlzIGNhbGxlZCBiZXR3ZWVuIGVhY2ggYXN5bmMgc3RlcCBvZiB0aGUgdXBsb2FkCiAqIHByb2Nlc3MuCiAqIEBwYXJhbSB7c3RyaW5nfSBpbnB1dElkIEVsZW1lbnQgSUQgb2YgdGhlIGlucHV0IGZpbGUgcGlja2VyIGVsZW1lbnQuCiAqIEBwYXJhbSB7c3RyaW5nfSBvdXRwdXRJZCBFbGVtZW50IElEIG9mIHRoZSBvdXRwdXQgZGlzcGxheS4KICogQHJldHVybiB7IUl0ZXJhYmxlPCFPYmplY3Q+fSBJdGVyYWJsZSBvZiBuZXh0IHN0ZXBzLgogKi8KZnVuY3Rpb24qIHVwbG9hZEZpbGVzU3RlcChpbnB1dElkLCBvdXRwdXRJZCkgewogIGNvbnN0IGlucHV0RWxlbWVudCA9IGRvY3VtZW50LmdldEVsZW1lbnRCeUlkKGlucHV0SWQpOwogIGlucHV0RWxlbWVudC5kaXNhYmxlZCA9IGZhbHNlOwoKICBjb25zdCBvdXRwdXRFbGVtZW50ID0gZG9jdW1lbnQuZ2V0RWxlbWVudEJ5SWQob3V0cHV0SWQpOwogIG91dHB1dEVsZW1lbnQuaW5uZXJIVE1MID0gJyc7CgogIGNvbnN0IHBpY2tlZFByb21pc2UgPSBuZXcgUHJvbWlzZSgocmVzb2x2ZSkgPT4gewogICAgaW5wdXRFbGVtZW50LmFkZEV2ZW50TGlzdGVuZXIoJ2NoYW5nZScsIChlKSA9PiB7CiAgICAgIHJlc29sdmUoZS50YXJnZXQuZmlsZXMpOwogICAgfSk7CiAgfSk7CgogIGNvbnN0IGNhbmNlbCA9IGRvY3VtZW50LmNyZWF0ZUVsZW1lbnQoJ2J1dHRvbicpOwogIGlucHV0RWxlbWVudC5wYXJlbnRFbGVtZW50LmFwcGVuZENoaWxkKGNhbmNlbCk7CiAgY2FuY2VsLnRleHRDb250ZW50ID0gJ0NhbmNlbCB1cGxvYWQnOwogIGNvbnN0IGNhbmNlbFByb21pc2UgPSBuZXcgUHJvbWlzZSgocmVzb2x2ZSkgPT4gewogICAgY2FuY2VsLm9uY2xpY2sgPSAoKSA9PiB7CiAgICAgIHJlc29sdmUobnVsbCk7CiAgICB9OwogIH0pOwoKICAvLyBXYWl0IGZvciB0aGUgdXNlciB0byBwaWNrIHRoZSBmaWxlcy4KICBjb25zdCBmaWxlcyA9IHlpZWxkIHsKICAgIHByb21pc2U6IFByb21pc2UucmFjZShbcGlja2VkUHJvbWlzZSwgY2FuY2VsUHJvbWlzZV0pLAogICAgcmVzcG9uc2U6IHsKICAgICAgYWN0aW9uOiAnc3RhcnRpbmcnLAogICAgfQogIH07CgogIGNhbmNlbC5yZW1vdmUoKTsKCiAgLy8gRGlzYWJsZSB0aGUgaW5wdXQgZWxlbWVudCBzaW5jZSBmdXJ0aGVyIHBpY2tzIGFyZSBub3QgYWxsb3dlZC4KICBpbnB1dEVsZW1lbnQuZGlzYWJsZWQgPSB0cnVlOwoKICBpZiAoIWZpbGVzKSB7CiAgICByZXR1cm4gewogICAgICByZXNwb25zZTogewogICAgICAgIGFjdGlvbjogJ2NvbXBsZXRlJywKICAgICAgfQogICAgfTsKICB9CgogIGZvciAoY29uc3QgZmlsZSBvZiBmaWxlcykgewogICAgY29uc3QgbGkgPSBkb2N1bWVudC5jcmVhdGVFbGVtZW50KCdsaScpOwogICAgbGkuYXBwZW5kKHNwYW4oZmlsZS5uYW1lLCB7Zm9udFdlaWdodDogJ2JvbGQnfSkpOwogICAgbGkuYXBwZW5kKHNwYW4oCiAgICAgICAgYCgke2ZpbGUudHlwZSB8fCAnbi9hJ30pIC0gJHtmaWxlLnNpemV9IGJ5dGVzLCBgICsKICAgICAgICBgbGFzdCBtb2RpZmllZDogJHsKICAgICAgICAgICAgZmlsZS5sYXN0TW9kaWZpZWREYXRlID8gZmlsZS5sYXN0TW9kaWZpZWREYXRlLnRvTG9jYWxlRGF0ZVN0cmluZygpIDoKICAgICAgICAgICAgICAgICAgICAgICAgICAgICAgICAgICAgJ24vYSd9IC0gYCkpOwogICAgY29uc3QgcGVyY2VudCA9IHNwYW4oJzAlIGRvbmUnKTsKICAgIGxpLmFwcGVuZENoaWxkKHBlcmNlbnQpOwoKICAgIG91dHB1dEVsZW1lbnQuYXBwZW5kQ2hpbGQobGkpOwoKICAgIGNvbnN0IGZpbGVEYXRhUHJvbWlzZSA9IG5ldyBQcm9taXNlKChyZXNvbHZlKSA9PiB7CiAgICAgIGNvbnN0IHJlYWRlciA9IG5ldyBGaWxlUmVhZGVyKCk7CiAgICAgIHJlYWRlci5vbmxvYWQgPSAoZSkgPT4gewogICAgICAgIHJlc29sdmUoZS50YXJnZXQucmVzdWx0KTsKICAgICAgfTsKICAgICAgcmVhZGVyLnJlYWRBc0FycmF5QnVmZmVyKGZpbGUpOwogICAgfSk7CiAgICAvLyBXYWl0IGZvciB0aGUgZGF0YSB0byBiZSByZWFkeS4KICAgIGxldCBmaWxlRGF0YSA9IHlpZWxkIHsKICAgICAgcHJvbWlzZTogZmlsZURhdGFQcm9taXNlLAogICAgICByZXNwb25zZTogewogICAgICAgIGFjdGlvbjogJ2NvbnRpbnVlJywKICAgICAgfQogICAgfTsKCiAgICAvLyBVc2UgYSBjaHVua2VkIHNlbmRpbmcgdG8gYXZvaWQgbWVzc2FnZSBzaXplIGxpbWl0cy4gU2VlIGIvNjIxMTU2NjAuCiAgICBsZXQgcG9zaXRpb24gPSAwOwogICAgZG8gewogICAgICBjb25zdCBsZW5ndGggPSBNYXRoLm1pbihmaWxlRGF0YS5ieXRlTGVuZ3RoIC0gcG9zaXRpb24sIE1BWF9QQVlMT0FEX1NJWkUpOwogICAgICBjb25zdCBjaHVuayA9IG5ldyBVaW50OEFycmF5KGZpbGVEYXRhLCBwb3NpdGlvbiwgbGVuZ3RoKTsKICAgICAgcG9zaXRpb24gKz0gbGVuZ3RoOwoKICAgICAgY29uc3QgYmFzZTY0ID0gYnRvYShTdHJpbmcuZnJvbUNoYXJDb2RlLmFwcGx5KG51bGwsIGNodW5rKSk7CiAgICAgIHlpZWxkIHsKICAgICAgICByZXNwb25zZTogewogICAgICAgICAgYWN0aW9uOiAnYXBwZW5kJywKICAgICAgICAgIGZpbGU6IGZpbGUubmFtZSwKICAgICAgICAgIGRhdGE6IGJhc2U2NCwKICAgICAgICB9LAogICAgICB9OwoKICAgICAgbGV0IHBlcmNlbnREb25lID0gZmlsZURhdGEuYnl0ZUxlbmd0aCA9PT0gMCA/CiAgICAgICAgICAxMDAgOgogICAgICAgICAgTWF0aC5yb3VuZCgocG9zaXRpb24gLyBmaWxlRGF0YS5ieXRlTGVuZ3RoKSAqIDEwMCk7CiAgICAgIHBlcmNlbnQudGV4dENvbnRlbnQgPSBgJHtwZXJjZW50RG9uZX0lIGRvbmVgOwoKICAgIH0gd2hpbGUgKHBvc2l0aW9uIDwgZmlsZURhdGEuYnl0ZUxlbmd0aCk7CiAgfQoKICAvLyBBbGwgZG9uZS4KICB5aWVsZCB7CiAgICByZXNwb25zZTogewogICAgICBhY3Rpb246ICdjb21wbGV0ZScsCiAgICB9CiAgfTsKfQoKc2NvcGUuZ29vZ2xlID0gc2NvcGUuZ29vZ2xlIHx8IHt9OwpzY29wZS5nb29nbGUuY29sYWIgPSBzY29wZS5nb29nbGUuY29sYWIgfHwge307CnNjb3BlLmdvb2dsZS5jb2xhYi5fZmlsZXMgPSB7CiAgX3VwbG9hZEZpbGVzLAogIF91cGxvYWRGaWxlc0NvbnRpbnVlLAp9Owp9KShzZWxmKTsK",
              "ok": true,
              "headers": [
                [
                  "content-type",
                  "application/javascript"
                ]
              ],
              "status": 200,
              "status_text": ""
            }
          },
          "base_uri": "https://localhost:8080/",
          "height": 91
        },
        "id": "6JT-BjtK4AsN",
        "outputId": "c01bdad7-e1d4-4c16-a21d-dc92c713ce8b"
      },
      "execution_count": 3,
      "outputs": [
        {
          "output_type": "display_data",
          "data": {
            "text/plain": [
              "<IPython.core.display.HTML object>"
            ],
            "text/html": [
              "\n",
              "     <input type=\"file\" id=\"files-559ee4b4-5d16-45ac-8e66-47acdea0cb87\" name=\"files[]\" multiple disabled\n",
              "        style=\"border:none\" />\n",
              "     <output id=\"result-559ee4b4-5d16-45ac-8e66-47acdea0cb87\">\n",
              "      Upload widget is only available when the cell has been executed in the\n",
              "      current browser session. Please rerun this cell to enable.\n",
              "      </output>\n",
              "      <script src=\"/nbextensions/google.colab/files.js\"></script> "
            ]
          },
          "metadata": {}
        },
        {
          "output_type": "stream",
          "name": "stdout",
          "text": [
            "Saving data_memoire.xlsx to data_memoire.xlsx\n"
          ]
        }
      ]
    },
    {
      "cell_type": "code",
      "source": [
        "data = pd.read_excel(io.BytesIO(uploaded['data_memoire.xlsx'])) \n",
        "print(data)"
      ],
      "metadata": {
        "colab": {
          "base_uri": "https://localhost:8080/"
        },
        "id": "-Ndk3oAC7ykn",
        "outputId": "ec3b95c1-b48c-41cc-932b-bdc77c16d7ed"
      },
      "execution_count": 4,
      "outputs": [
        {
          "output_type": "stream",
          "name": "stdout",
          "text": [
            "      Derivation cohort  LOS_Y  LOS  Death   Age  Severity  MI  PVD  CHF  CVD  \\\n",
            "0                     1      1    1      0   >80         3   0    0    0    0   \n",
            "1                     1      1    2      1   >60         7   0    1    0    0   \n",
            "2                     1      1    2      1   >80         7   0    1    1    1   \n",
            "3                     1      1   15      0   >70         9   1    0    0    0   \n",
            "4                     1      1    9      0   >70         7   0    0    0    0   \n",
            "...                 ...    ...  ...    ...   ...       ...  ..  ...  ...  ...   \n",
            "4706                  0      1    4      0   >70         4   0    0    0    0   \n",
            "4707                  0      1    2      0   >60         2   0    1    0    0   \n",
            "4708                  0      0    0      0   >60         1   0    1    0    0   \n",
            "4709                  0      0    0      0   >80         3   0    1    0    0   \n",
            "4710                  0      0    0      0  0-60         2   0    1    0    0   \n",
            "\n",
            "      ...  Ferritin > 300  CrctProtYes  CrctProtein  C-Reactive Prot > 10  \\\n",
            "0     ...               0            1       0.4999                     0   \n",
            "1     ...               1            1      14.9000                     1   \n",
            "2     ...               1            1      33.9000                     1   \n",
            "3     ...               1            1      18.4000                     1   \n",
            "4     ...               1            1      11.6000                     1   \n",
            "...   ...             ...          ...          ...                   ...   \n",
            "4706  ...               0            1       1.8000                     0   \n",
            "4707  ...               1            1       3.1000                     0   \n",
            "4708  ...               0            1       0.4999                     0   \n",
            "4709  ...               1            1       8.6000                     0   \n",
            "4710  ...               0            1       0.0000                     0   \n",
            "\n",
            "      ProCalCYes  Procalcitonin  Procalciton > 0.1  TropYes  Troponin  \\\n",
            "0              0         0.0000                  0        1      0.01   \n",
            "1              1         0.6000                  1        1      1.20   \n",
            "2              1         1.2000                  1        0      0.00   \n",
            "3              1         7.3000                  1        1      0.05   \n",
            "4              0         0.0000                  0        1      0.01   \n",
            "...          ...            ...                ...      ...       ...   \n",
            "4706           1         0.0999                  0        1      0.01   \n",
            "4707           1         0.0999                  0        1      0.01   \n",
            "4708           1         0.0000                  0        0      0.00   \n",
            "4709           1         0.1000                  0        1      0.01   \n",
            "4710           1         0.0000                  0        0      0.00   \n",
            "\n",
            "      Troponin > 0.1  \n",
            "0                  0  \n",
            "1                  1  \n",
            "2                  0  \n",
            "3                  0  \n",
            "4                  0  \n",
            "...              ...  \n",
            "4706               0  \n",
            "4707               0  \n",
            "4708               0  \n",
            "4709               0  \n",
            "4710               0  \n",
            "\n",
            "[4711 rows x 81 columns]\n"
          ]
        },
        {
          "output_type": "stream",
          "name": "stderr",
          "text": [
            "/usr/local/lib/python3.7/dist-packages/openpyxl/worksheet/_reader.py:312: UserWarning: Unknown extension is not supported and will be removed\n",
            "  warn(msg)\n"
          ]
        }
      ]
    },
    {
      "cell_type": "code",
      "source": [
        ""
      ],
      "metadata": {
        "id": "VPRVcWhEVSeM"
      },
      "execution_count": null,
      "outputs": []
    },
    {
      "cell_type": "code",
      "source": [
        "data.head()"
      ],
      "metadata": {
        "colab": {
          "base_uri": "https://localhost:8080/",
          "height": 351
        },
        "id": "8oF0mAJR8pfR",
        "outputId": "94d9d2a6-8396-4695-ccfa-2a2f4f0e6457"
      },
      "execution_count": 5,
      "outputs": [
        {
          "output_type": "execute_result",
          "data": {
            "text/plain": [
              "   Derivation cohort  LOS_Y  LOS  Death  Age  Severity  MI  PVD  CHF  CVD  \\\n",
              "0                  1      1    1      0  >80         3   0    0    0    0   \n",
              "1                  1      1    2      1  >60         7   0    1    0    0   \n",
              "2                  1      1    2      1  >80         7   0    1    1    1   \n",
              "3                  1      1   15      0  >70         9   1    0    0    0   \n",
              "4                  1      1    9      0  >70         7   0    0    0    0   \n",
              "\n",
              "   ...  Ferritin > 300  CrctProtYes  CrctProtein  C-Reactive Prot > 10  \\\n",
              "0  ...               0            1       0.4999                     0   \n",
              "1  ...               1            1      14.9000                     1   \n",
              "2  ...               1            1      33.9000                     1   \n",
              "3  ...               1            1      18.4000                     1   \n",
              "4  ...               1            1      11.6000                     1   \n",
              "\n",
              "   ProCalCYes  Procalcitonin  Procalciton > 0.1  TropYes  Troponin  \\\n",
              "0           0            0.0                  0        1      0.01   \n",
              "1           1            0.6                  1        1      1.20   \n",
              "2           1            1.2                  1        0      0.00   \n",
              "3           1            7.3                  1        1      0.05   \n",
              "4           0            0.0                  0        1      0.01   \n",
              "\n",
              "   Troponin > 0.1  \n",
              "0               0  \n",
              "1               1  \n",
              "2               0  \n",
              "3               0  \n",
              "4               0  \n",
              "\n",
              "[5 rows x 81 columns]"
            ],
            "text/html": [
              "\n",
              "  <div id=\"df-d027dc75-5950-4c23-a779-985684a6f159\">\n",
              "    <div class=\"colab-df-container\">\n",
              "      <div>\n",
              "<style scoped>\n",
              "    .dataframe tbody tr th:only-of-type {\n",
              "        vertical-align: middle;\n",
              "    }\n",
              "\n",
              "    .dataframe tbody tr th {\n",
              "        vertical-align: top;\n",
              "    }\n",
              "\n",
              "    .dataframe thead th {\n",
              "        text-align: right;\n",
              "    }\n",
              "</style>\n",
              "<table border=\"1\" class=\"dataframe\">\n",
              "  <thead>\n",
              "    <tr style=\"text-align: right;\">\n",
              "      <th></th>\n",
              "      <th>Derivation cohort</th>\n",
              "      <th>LOS_Y</th>\n",
              "      <th>LOS</th>\n",
              "      <th>Death</th>\n",
              "      <th>Age</th>\n",
              "      <th>Severity</th>\n",
              "      <th>MI</th>\n",
              "      <th>PVD</th>\n",
              "      <th>CHF</th>\n",
              "      <th>CVD</th>\n",
              "      <th>...</th>\n",
              "      <th>Ferritin &gt; 300</th>\n",
              "      <th>CrctProtYes</th>\n",
              "      <th>CrctProtein</th>\n",
              "      <th>C-Reactive Prot &gt; 10</th>\n",
              "      <th>ProCalCYes</th>\n",
              "      <th>Procalcitonin</th>\n",
              "      <th>Procalciton &gt; 0.1</th>\n",
              "      <th>TropYes</th>\n",
              "      <th>Troponin</th>\n",
              "      <th>Troponin &gt; 0.1</th>\n",
              "    </tr>\n",
              "  </thead>\n",
              "  <tbody>\n",
              "    <tr>\n",
              "      <th>0</th>\n",
              "      <td>1</td>\n",
              "      <td>1</td>\n",
              "      <td>1</td>\n",
              "      <td>0</td>\n",
              "      <td>&gt;80</td>\n",
              "      <td>3</td>\n",
              "      <td>0</td>\n",
              "      <td>0</td>\n",
              "      <td>0</td>\n",
              "      <td>0</td>\n",
              "      <td>...</td>\n",
              "      <td>0</td>\n",
              "      <td>1</td>\n",
              "      <td>0.4999</td>\n",
              "      <td>0</td>\n",
              "      <td>0</td>\n",
              "      <td>0.0</td>\n",
              "      <td>0</td>\n",
              "      <td>1</td>\n",
              "      <td>0.01</td>\n",
              "      <td>0</td>\n",
              "    </tr>\n",
              "    <tr>\n",
              "      <th>1</th>\n",
              "      <td>1</td>\n",
              "      <td>1</td>\n",
              "      <td>2</td>\n",
              "      <td>1</td>\n",
              "      <td>&gt;60</td>\n",
              "      <td>7</td>\n",
              "      <td>0</td>\n",
              "      <td>1</td>\n",
              "      <td>0</td>\n",
              "      <td>0</td>\n",
              "      <td>...</td>\n",
              "      <td>1</td>\n",
              "      <td>1</td>\n",
              "      <td>14.9000</td>\n",
              "      <td>1</td>\n",
              "      <td>1</td>\n",
              "      <td>0.6</td>\n",
              "      <td>1</td>\n",
              "      <td>1</td>\n",
              "      <td>1.20</td>\n",
              "      <td>1</td>\n",
              "    </tr>\n",
              "    <tr>\n",
              "      <th>2</th>\n",
              "      <td>1</td>\n",
              "      <td>1</td>\n",
              "      <td>2</td>\n",
              "      <td>1</td>\n",
              "      <td>&gt;80</td>\n",
              "      <td>7</td>\n",
              "      <td>0</td>\n",
              "      <td>1</td>\n",
              "      <td>1</td>\n",
              "      <td>1</td>\n",
              "      <td>...</td>\n",
              "      <td>1</td>\n",
              "      <td>1</td>\n",
              "      <td>33.9000</td>\n",
              "      <td>1</td>\n",
              "      <td>1</td>\n",
              "      <td>1.2</td>\n",
              "      <td>1</td>\n",
              "      <td>0</td>\n",
              "      <td>0.00</td>\n",
              "      <td>0</td>\n",
              "    </tr>\n",
              "    <tr>\n",
              "      <th>3</th>\n",
              "      <td>1</td>\n",
              "      <td>1</td>\n",
              "      <td>15</td>\n",
              "      <td>0</td>\n",
              "      <td>&gt;70</td>\n",
              "      <td>9</td>\n",
              "      <td>1</td>\n",
              "      <td>0</td>\n",
              "      <td>0</td>\n",
              "      <td>0</td>\n",
              "      <td>...</td>\n",
              "      <td>1</td>\n",
              "      <td>1</td>\n",
              "      <td>18.4000</td>\n",
              "      <td>1</td>\n",
              "      <td>1</td>\n",
              "      <td>7.3</td>\n",
              "      <td>1</td>\n",
              "      <td>1</td>\n",
              "      <td>0.05</td>\n",
              "      <td>0</td>\n",
              "    </tr>\n",
              "    <tr>\n",
              "      <th>4</th>\n",
              "      <td>1</td>\n",
              "      <td>1</td>\n",
              "      <td>9</td>\n",
              "      <td>0</td>\n",
              "      <td>&gt;70</td>\n",
              "      <td>7</td>\n",
              "      <td>0</td>\n",
              "      <td>0</td>\n",
              "      <td>0</td>\n",
              "      <td>0</td>\n",
              "      <td>...</td>\n",
              "      <td>1</td>\n",
              "      <td>1</td>\n",
              "      <td>11.6000</td>\n",
              "      <td>1</td>\n",
              "      <td>0</td>\n",
              "      <td>0.0</td>\n",
              "      <td>0</td>\n",
              "      <td>1</td>\n",
              "      <td>0.01</td>\n",
              "      <td>0</td>\n",
              "    </tr>\n",
              "  </tbody>\n",
              "</table>\n",
              "<p>5 rows × 81 columns</p>\n",
              "</div>\n",
              "      <button class=\"colab-df-convert\" onclick=\"convertToInteractive('df-d027dc75-5950-4c23-a779-985684a6f159')\"\n",
              "              title=\"Convert this dataframe to an interactive table.\"\n",
              "              style=\"display:none;\">\n",
              "        \n",
              "  <svg xmlns=\"http://www.w3.org/2000/svg\" height=\"24px\"viewBox=\"0 0 24 24\"\n",
              "       width=\"24px\">\n",
              "    <path d=\"M0 0h24v24H0V0z\" fill=\"none\"/>\n",
              "    <path d=\"M18.56 5.44l.94 2.06.94-2.06 2.06-.94-2.06-.94-.94-2.06-.94 2.06-2.06.94zm-11 1L8.5 8.5l.94-2.06 2.06-.94-2.06-.94L8.5 2.5l-.94 2.06-2.06.94zm10 10l.94 2.06.94-2.06 2.06-.94-2.06-.94-.94-2.06-.94 2.06-2.06.94z\"/><path d=\"M17.41 7.96l-1.37-1.37c-.4-.4-.92-.59-1.43-.59-.52 0-1.04.2-1.43.59L10.3 9.45l-7.72 7.72c-.78.78-.78 2.05 0 2.83L4 21.41c.39.39.9.59 1.41.59.51 0 1.02-.2 1.41-.59l7.78-7.78 2.81-2.81c.8-.78.8-2.07 0-2.86zM5.41 20L4 18.59l7.72-7.72 1.47 1.35L5.41 20z\"/>\n",
              "  </svg>\n",
              "      </button>\n",
              "      \n",
              "  <style>\n",
              "    .colab-df-container {\n",
              "      display:flex;\n",
              "      flex-wrap:wrap;\n",
              "      gap: 12px;\n",
              "    }\n",
              "\n",
              "    .colab-df-convert {\n",
              "      background-color: #E8F0FE;\n",
              "      border: none;\n",
              "      border-radius: 50%;\n",
              "      cursor: pointer;\n",
              "      display: none;\n",
              "      fill: #1967D2;\n",
              "      height: 32px;\n",
              "      padding: 0 0 0 0;\n",
              "      width: 32px;\n",
              "    }\n",
              "\n",
              "    .colab-df-convert:hover {\n",
              "      background-color: #E2EBFA;\n",
              "      box-shadow: 0px 1px 2px rgba(60, 64, 67, 0.3), 0px 1px 3px 1px rgba(60, 64, 67, 0.15);\n",
              "      fill: #174EA6;\n",
              "    }\n",
              "\n",
              "    [theme=dark] .colab-df-convert {\n",
              "      background-color: #3B4455;\n",
              "      fill: #D2E3FC;\n",
              "    }\n",
              "\n",
              "    [theme=dark] .colab-df-convert:hover {\n",
              "      background-color: #434B5C;\n",
              "      box-shadow: 0px 1px 3px 1px rgba(0, 0, 0, 0.15);\n",
              "      filter: drop-shadow(0px 1px 2px rgba(0, 0, 0, 0.3));\n",
              "      fill: #FFFFFF;\n",
              "    }\n",
              "  </style>\n",
              "\n",
              "      <script>\n",
              "        const buttonEl =\n",
              "          document.querySelector('#df-d027dc75-5950-4c23-a779-985684a6f159 button.colab-df-convert');\n",
              "        buttonEl.style.display =\n",
              "          google.colab.kernel.accessAllowed ? 'block' : 'none';\n",
              "\n",
              "        async function convertToInteractive(key) {\n",
              "          const element = document.querySelector('#df-d027dc75-5950-4c23-a779-985684a6f159');\n",
              "          const dataTable =\n",
              "            await google.colab.kernel.invokeFunction('convertToInteractive',\n",
              "                                                     [key], {});\n",
              "          if (!dataTable) return;\n",
              "\n",
              "          const docLinkHtml = 'Like what you see? Visit the ' +\n",
              "            '<a target=\"_blank\" href=https://colab.research.google.com/notebooks/data_table.ipynb>data table notebook</a>'\n",
              "            + ' to learn more about interactive tables.';\n",
              "          element.innerHTML = '';\n",
              "          dataTable['output_type'] = 'display_data';\n",
              "          await google.colab.output.renderOutput(dataTable, element);\n",
              "          const docLink = document.createElement('div');\n",
              "          docLink.innerHTML = docLinkHtml;\n",
              "          element.appendChild(docLink);\n",
              "        }\n",
              "      </script>\n",
              "    </div>\n",
              "  </div>\n",
              "  "
            ]
          },
          "metadata": {},
          "execution_count": 5
        }
      ]
    },
    {
      "cell_type": "code",
      "source": [
        "data.groupby(['Death'],).size()\n"
      ],
      "metadata": {
        "colab": {
          "base_uri": "https://localhost:8080/"
        },
        "id": "CThI_dSsPTe9",
        "outputId": "69eae947-71c7-487c-c331-cafde370af8b"
      },
      "execution_count": 13,
      "outputs": [
        {
          "output_type": "execute_result",
          "data": {
            "text/plain": [
              "Death\n",
              "0    3563\n",
              "1    1148\n",
              "dtype: int64"
            ]
          },
          "metadata": {},
          "execution_count": 13
        }
      ]
    },
    {
      "cell_type": "code",
      "source": [
        "#visulalisation et analyse \n",
        "  #Afficher le nom de chaque colonne\n",
        "data.columns.sort_values()"
      ],
      "metadata": {
        "colab": {
          "base_uri": "https://localhost:8080/"
        },
        "id": "L_v4je8X8plA",
        "outputId": "24052333-97d6-4396-c9ea-970ac46a2fd6"
      },
      "execution_count": 14,
      "outputs": [
        {
          "output_type": "execute_result",
          "data": {
            "text/plain": [
              "Index(['ALT', 'ALT > 40', 'ALTYes', 'AST', 'AST > 40', 'ASTYes', 'Age',\n",
              "       'Age.1', 'AgeScore', 'All CNS', 'BUN', 'BUN > 30', 'BUNYes',\n",
              "       'C-Reactive Prot > 10', 'CHF', 'COPD', 'CVD', 'CrctProtYes',\n",
              "       'CrctProtein', 'Creatinine', 'CrtnScore', 'CrtnYes', 'D-Dimer > 3',\n",
              "       'DDimerYes', 'DEMENT', 'DM Complicated', 'DM Simple', 'Ddimer', 'Death',\n",
              "       'Derivation cohort', 'Ferritin', 'Ferritin > 300', 'FerritinYes',\n",
              "       'Glucose', 'Glucose <60 or > 500', 'GlucoseYese', 'IL6', 'IL6 > 150',\n",
              "       'IL6Yes', 'INR', 'INR > 1.2', 'INRYes', 'LOS', 'LOS_Y', 'Lympho',\n",
              "       'LymphoYes', 'Lymphocytes < 1', 'MAP', 'MAP < 70', 'MI', 'MapYes',\n",
              "       'O2 Sat < 94', 'O2SatsYes', 'OldOtherNeuro', 'OldSyncope', 'OsSats',\n",
              "       'OtherBrnLsn', 'PVD', 'Plts', 'PltsScore', 'PltsYes', 'ProCalCYes',\n",
              "       'Procalciton > 0.1', 'Procalcitonin', 'Pure CNS', 'Renal Disease',\n",
              "       'Seizure', 'Severity', 'SodimuYes', 'Sodium', 'Sodium < 139 or > 154',\n",
              "       'Stroke', 'Temp', 'Temp > 38', 'TempYes', 'TropYes', 'Troponin',\n",
              "       'Troponin > 0.1', 'WBC', 'WBC <1.8 or > 4.8', 'WBCYes'],\n",
              "      dtype='object')"
            ]
          },
          "metadata": {},
          "execution_count": 14
        }
      ]
    },
    {
      "cell_type": "code",
      "source": [
        "#Analyse Data - Overview Shape\n",
        "data.shape"
      ],
      "metadata": {
        "colab": {
          "base_uri": "https://localhost:8080/"
        },
        "id": "7PKU6Y7vBtKv",
        "outputId": "310ba408-b438-4995-eb90-e16522a41b52"
      },
      "execution_count": 15,
      "outputs": [
        {
          "output_type": "execute_result",
          "data": {
            "text/plain": [
              "(4711, 81)"
            ]
          },
          "metadata": {},
          "execution_count": 15
        }
      ]
    },
    {
      "cell_type": "code",
      "source": [
        "#Afficher le type de chaque colonne et null (si présent)\n",
        "data.info()"
      ],
      "metadata": {
        "colab": {
          "base_uri": "https://localhost:8080/"
        },
        "id": "zVE4SDKxB8zh",
        "outputId": "0b61cc3a-962a-48fa-bbaf-e1664f47f8ff"
      },
      "execution_count": null,
      "outputs": [
        {
          "output_type": "stream",
          "name": "stdout",
          "text": [
            "<class 'pandas.core.frame.DataFrame'>\n",
            "RangeIndex: 4711 entries, 0 to 4710\n",
            "Data columns (total 81 columns):\n",
            " #   Column                 Non-Null Count  Dtype  \n",
            "---  ------                 --------------  -----  \n",
            " 0   Derivation cohort      4711 non-null   int64  \n",
            " 1   LOS_Y                  4711 non-null   int64  \n",
            " 2   LOS                    4711 non-null   int64  \n",
            " 3   Death                  4711 non-null   int64  \n",
            " 4   Age                    4711 non-null   object \n",
            " 5   Severity               4711 non-null   int64  \n",
            " 6   MI                     4711 non-null   int64  \n",
            " 7   PVD                    4711 non-null   int64  \n",
            " 8   CHF                    4711 non-null   int64  \n",
            " 9   CVD                    4711 non-null   int64  \n",
            " 10  DEMENT                 4711 non-null   int64  \n",
            " 11  COPD                   4711 non-null   int64  \n",
            " 12  DM Complicated         4711 non-null   int64  \n",
            " 13  DM Simple              4711 non-null   int64  \n",
            " 14  Renal Disease          4711 non-null   int64  \n",
            " 15  All CNS                4711 non-null   int64  \n",
            " 16  Pure CNS               4711 non-null   int64  \n",
            " 17  Stroke                 4711 non-null   int64  \n",
            " 18  Seizure                4711 non-null   int64  \n",
            " 19  OldSyncope             4711 non-null   int64  \n",
            " 20  OldOtherNeuro          4711 non-null   int64  \n",
            " 21  OtherBrnLsn            4711 non-null   int64  \n",
            " 22  Age.1                  4711 non-null   int64  \n",
            " 23  AgeScore               4711 non-null   int64  \n",
            " 24  O2SatsYes              4711 non-null   int64  \n",
            " 25  OsSats                 4711 non-null   int64  \n",
            " 26  O2 Sat < 94            4711 non-null   int64  \n",
            " 27  TempYes                4711 non-null   int64  \n",
            " 28  Temp                   4711 non-null   float64\n",
            " 29  Temp > 38              4711 non-null   int64  \n",
            " 30  MapYes                 4711 non-null   int64  \n",
            " 31  MAP                    4711 non-null   float64\n",
            " 32  MAP < 70               4711 non-null   int64  \n",
            " 33  DDimerYes              4711 non-null   int64  \n",
            " 34  Ddimer                 4711 non-null   float64\n",
            " 35  D-Dimer > 3            4711 non-null   int64  \n",
            " 36  PltsYes                4711 non-null   int64  \n",
            " 37  Plts                   4711 non-null   int64  \n",
            " 38  PltsScore              4711 non-null   int64  \n",
            " 39  INRYes                 4711 non-null   int64  \n",
            " 40  INR                    4711 non-null   float64\n",
            " 41  INR > 1.2              4711 non-null   int64  \n",
            " 42  BUNYes                 4711 non-null   int64  \n",
            " 43  BUN                    4711 non-null   float64\n",
            " 44  BUN > 30               4711 non-null   int64  \n",
            " 45  CrtnYes                4711 non-null   int64  \n",
            " 46  Creatinine             4711 non-null   float64\n",
            " 47  CrtnScore              4711 non-null   int64  \n",
            " 48  SodimuYes              4711 non-null   int64  \n",
            " 49  Sodium                 4711 non-null   float64\n",
            " 50  Sodium < 139 or > 154  4711 non-null   int64  \n",
            " 51  GlucoseYese            4711 non-null   int64  \n",
            " 52  Glucose                4711 non-null   float64\n",
            " 53  Glucose <60 or > 500   4711 non-null   int64  \n",
            " 54  ASTYes                 4711 non-null   int64  \n",
            " 55  AST                    4711 non-null   float64\n",
            " 56  AST > 40               4711 non-null   int64  \n",
            " 57  ALTYes                 4711 non-null   int64  \n",
            " 58  ALT                    4711 non-null   float64\n",
            " 59  ALT > 40               4711 non-null   int64  \n",
            " 60  WBCYes                 4711 non-null   int64  \n",
            " 61  WBC                    4711 non-null   float64\n",
            " 62  WBC <1.8 or > 4.8      4711 non-null   int64  \n",
            " 63  LymphoYes              4711 non-null   int64  \n",
            " 64  Lympho                 4711 non-null   float64\n",
            " 65  Lymphocytes < 1        4711 non-null   int64  \n",
            " 66  IL6Yes                 4711 non-null   int64  \n",
            " 67  IL6                    4711 non-null   float64\n",
            " 68  IL6 > 150              4711 non-null   int64  \n",
            " 69  FerritinYes            4711 non-null   int64  \n",
            " 70  Ferritin               4711 non-null   float64\n",
            " 71  Ferritin > 300         4711 non-null   int64  \n",
            " 72  CrctProtYes            4711 non-null   int64  \n",
            " 73  CrctProtein            4711 non-null   float64\n",
            " 74  C-Reactive Prot > 10   4711 non-null   int64  \n",
            " 75  ProCalCYes             4711 non-null   int64  \n",
            " 76  Procalcitonin          4711 non-null   float64\n",
            " 77  Procalciton > 0.1      4711 non-null   int64  \n",
            " 78  TropYes                4711 non-null   int64  \n",
            " 79  Troponin               4711 non-null   float64\n",
            " 80  Troponin > 0.1         4711 non-null   int64  \n",
            "dtypes: float64(17), int64(63), object(1)\n",
            "memory usage: 2.9+ MB\n"
          ]
        }
      ]
    },
    {
      "cell_type": "code",
      "source": [
        "data.isnull().any()"
      ],
      "metadata": {
        "colab": {
          "base_uri": "https://localhost:8080/"
        },
        "id": "X_7G6hkHJUGz",
        "outputId": "edc86075-338a-44f4-baea-0f25d57de593"
      },
      "execution_count": null,
      "outputs": [
        {
          "output_type": "execute_result",
          "data": {
            "text/plain": [
              "Derivation cohort    False\n",
              "LOS_Y                False\n",
              "LOS                  False\n",
              "Death                False\n",
              "Age                  False\n",
              "                     ...  \n",
              "Procalcitonin        False\n",
              "Procalciton > 0.1    False\n",
              "TropYes              False\n",
              "Troponin             False\n",
              "Troponin > 0.1       False\n",
              "Length: 81, dtype: bool"
            ]
          },
          "metadata": {},
          "execution_count": 9
        }
      ]
    },
    {
      "cell_type": "code",
      "source": [
        "data.describe()"
      ],
      "metadata": {
        "colab": {
          "base_uri": "https://localhost:8080/",
          "height": 411
        },
        "id": "erH8v0b9KjoU",
        "outputId": "fbe3c212-e843-4523-f7f2-55e9465fb2e3"
      },
      "execution_count": null,
      "outputs": [
        {
          "output_type": "execute_result",
          "data": {
            "text/plain": [
              "       Derivation cohort        LOS_Y          LOS        Death     Severity  \\\n",
              "count        4711.000000  4711.000000  4711.000000  4711.000000  4711.000000   \n",
              "mean            0.499682     0.927616     7.160263     0.243685     3.586287   \n",
              "std             0.500053     0.259150     7.029782     0.429350     2.289303   \n",
              "min             0.000000     0.000000     0.000000     0.000000     0.000000   \n",
              "25%             0.000000     1.000000     3.000000     0.000000     2.000000   \n",
              "50%             0.000000     1.000000     5.000000     0.000000     3.000000   \n",
              "75%             1.000000     1.000000     9.000000     0.000000     5.000000   \n",
              "max             1.000000     1.000000    56.000000     1.000000    11.000000   \n",
              "\n",
              "                MI          PVD          CHF          CVD       DEMENT  ...  \\\n",
              "count  4711.000000  4711.000000  4711.000000  4711.000000  4711.000000  ...   \n",
              "mean      0.042666     0.187434     0.114838     0.107408     0.078964  ...   \n",
              "std       0.202125     0.408897     0.318860     0.309664     0.269711  ...   \n",
              "min       0.000000     0.000000     0.000000     0.000000     0.000000  ...   \n",
              "25%       0.000000     0.000000     0.000000     0.000000     0.000000  ...   \n",
              "50%       0.000000     0.000000     0.000000     0.000000     0.000000  ...   \n",
              "75%       0.000000     0.000000     0.000000     0.000000     0.000000  ...   \n",
              "max       1.000000     2.000000     1.000000     1.000000     1.000000  ...   \n",
              "\n",
              "       Ferritin > 300  CrctProtYes  CrctProtein  C-Reactive Prot > 10  \\\n",
              "count     4711.000000  4711.000000  4711.000000           4711.000000   \n",
              "mean         0.543621     0.836128    10.314919              0.393335   \n",
              "std          0.498146     0.370198    11.223356              0.488542   \n",
              "min          0.000000     0.000000     0.000000              0.000000   \n",
              "25%          0.000000     1.000000     0.900000              0.000000   \n",
              "50%          1.000000     1.000000     6.500000              0.000000   \n",
              "75%          1.000000     1.000000    16.000000              1.000000   \n",
              "max          1.000000     1.000000   100.000100              1.000000   \n",
              "\n",
              "        ProCalCYes  Procalcitonin  Procalciton > 0.1      TropYes  \\\n",
              "count  4711.000000    4711.000000        4711.000000  4711.000000   \n",
              "mean      0.655487       1.585601           0.365952     0.863935   \n",
              "std       0.475260       6.262625           0.481747     0.342893   \n",
              "min       0.000000       0.000000           0.000000     0.000000   \n",
              "25%       0.000000       0.000000           0.000000     1.000000   \n",
              "50%       1.000000       0.100000           0.000000     1.000000   \n",
              "75%       1.000000       0.400000           1.000000     1.000000   \n",
              "max       1.000000      50.000100           1.000000     1.000000   \n",
              "\n",
              "          Troponin  Troponin > 0.1  \n",
              "count  4711.000000     4711.000000  \n",
              "mean      0.051558        0.095521  \n",
              "std       0.268160        0.293965  \n",
              "min       0.000000        0.000000  \n",
              "25%       0.010000        0.000000  \n",
              "50%       0.010000        0.000000  \n",
              "75%       0.020000        0.000000  \n",
              "max       9.560000        1.000000  \n",
              "\n",
              "[8 rows x 80 columns]"
            ],
            "text/html": [
              "\n",
              "  <div id=\"df-0a13d8b0-a10b-4844-8e9f-73404a698ffa\">\n",
              "    <div class=\"colab-df-container\">\n",
              "      <div>\n",
              "<style scoped>\n",
              "    .dataframe tbody tr th:only-of-type {\n",
              "        vertical-align: middle;\n",
              "    }\n",
              "\n",
              "    .dataframe tbody tr th {\n",
              "        vertical-align: top;\n",
              "    }\n",
              "\n",
              "    .dataframe thead th {\n",
              "        text-align: right;\n",
              "    }\n",
              "</style>\n",
              "<table border=\"1\" class=\"dataframe\">\n",
              "  <thead>\n",
              "    <tr style=\"text-align: right;\">\n",
              "      <th></th>\n",
              "      <th>Derivation cohort</th>\n",
              "      <th>LOS_Y</th>\n",
              "      <th>LOS</th>\n",
              "      <th>Death</th>\n",
              "      <th>Severity</th>\n",
              "      <th>MI</th>\n",
              "      <th>PVD</th>\n",
              "      <th>CHF</th>\n",
              "      <th>CVD</th>\n",
              "      <th>DEMENT</th>\n",
              "      <th>...</th>\n",
              "      <th>Ferritin &gt; 300</th>\n",
              "      <th>CrctProtYes</th>\n",
              "      <th>CrctProtein</th>\n",
              "      <th>C-Reactive Prot &gt; 10</th>\n",
              "      <th>ProCalCYes</th>\n",
              "      <th>Procalcitonin</th>\n",
              "      <th>Procalciton &gt; 0.1</th>\n",
              "      <th>TropYes</th>\n",
              "      <th>Troponin</th>\n",
              "      <th>Troponin &gt; 0.1</th>\n",
              "    </tr>\n",
              "  </thead>\n",
              "  <tbody>\n",
              "    <tr>\n",
              "      <th>count</th>\n",
              "      <td>4711.000000</td>\n",
              "      <td>4711.000000</td>\n",
              "      <td>4711.000000</td>\n",
              "      <td>4711.000000</td>\n",
              "      <td>4711.000000</td>\n",
              "      <td>4711.000000</td>\n",
              "      <td>4711.000000</td>\n",
              "      <td>4711.000000</td>\n",
              "      <td>4711.000000</td>\n",
              "      <td>4711.000000</td>\n",
              "      <td>...</td>\n",
              "      <td>4711.000000</td>\n",
              "      <td>4711.000000</td>\n",
              "      <td>4711.000000</td>\n",
              "      <td>4711.000000</td>\n",
              "      <td>4711.000000</td>\n",
              "      <td>4711.000000</td>\n",
              "      <td>4711.000000</td>\n",
              "      <td>4711.000000</td>\n",
              "      <td>4711.000000</td>\n",
              "      <td>4711.000000</td>\n",
              "    </tr>\n",
              "    <tr>\n",
              "      <th>mean</th>\n",
              "      <td>0.499682</td>\n",
              "      <td>0.927616</td>\n",
              "      <td>7.160263</td>\n",
              "      <td>0.243685</td>\n",
              "      <td>3.586287</td>\n",
              "      <td>0.042666</td>\n",
              "      <td>0.187434</td>\n",
              "      <td>0.114838</td>\n",
              "      <td>0.107408</td>\n",
              "      <td>0.078964</td>\n",
              "      <td>...</td>\n",
              "      <td>0.543621</td>\n",
              "      <td>0.836128</td>\n",
              "      <td>10.314919</td>\n",
              "      <td>0.393335</td>\n",
              "      <td>0.655487</td>\n",
              "      <td>1.585601</td>\n",
              "      <td>0.365952</td>\n",
              "      <td>0.863935</td>\n",
              "      <td>0.051558</td>\n",
              "      <td>0.095521</td>\n",
              "    </tr>\n",
              "    <tr>\n",
              "      <th>std</th>\n",
              "      <td>0.500053</td>\n",
              "      <td>0.259150</td>\n",
              "      <td>7.029782</td>\n",
              "      <td>0.429350</td>\n",
              "      <td>2.289303</td>\n",
              "      <td>0.202125</td>\n",
              "      <td>0.408897</td>\n",
              "      <td>0.318860</td>\n",
              "      <td>0.309664</td>\n",
              "      <td>0.269711</td>\n",
              "      <td>...</td>\n",
              "      <td>0.498146</td>\n",
              "      <td>0.370198</td>\n",
              "      <td>11.223356</td>\n",
              "      <td>0.488542</td>\n",
              "      <td>0.475260</td>\n",
              "      <td>6.262625</td>\n",
              "      <td>0.481747</td>\n",
              "      <td>0.342893</td>\n",
              "      <td>0.268160</td>\n",
              "      <td>0.293965</td>\n",
              "    </tr>\n",
              "    <tr>\n",
              "      <th>min</th>\n",
              "      <td>0.000000</td>\n",
              "      <td>0.000000</td>\n",
              "      <td>0.000000</td>\n",
              "      <td>0.000000</td>\n",
              "      <td>0.000000</td>\n",
              "      <td>0.000000</td>\n",
              "      <td>0.000000</td>\n",
              "      <td>0.000000</td>\n",
              "      <td>0.000000</td>\n",
              "      <td>0.000000</td>\n",
              "      <td>...</td>\n",
              "      <td>0.000000</td>\n",
              "      <td>0.000000</td>\n",
              "      <td>0.000000</td>\n",
              "      <td>0.000000</td>\n",
              "      <td>0.000000</td>\n",
              "      <td>0.000000</td>\n",
              "      <td>0.000000</td>\n",
              "      <td>0.000000</td>\n",
              "      <td>0.000000</td>\n",
              "      <td>0.000000</td>\n",
              "    </tr>\n",
              "    <tr>\n",
              "      <th>25%</th>\n",
              "      <td>0.000000</td>\n",
              "      <td>1.000000</td>\n",
              "      <td>3.000000</td>\n",
              "      <td>0.000000</td>\n",
              "      <td>2.000000</td>\n",
              "      <td>0.000000</td>\n",
              "      <td>0.000000</td>\n",
              "      <td>0.000000</td>\n",
              "      <td>0.000000</td>\n",
              "      <td>0.000000</td>\n",
              "      <td>...</td>\n",
              "      <td>0.000000</td>\n",
              "      <td>1.000000</td>\n",
              "      <td>0.900000</td>\n",
              "      <td>0.000000</td>\n",
              "      <td>0.000000</td>\n",
              "      <td>0.000000</td>\n",
              "      <td>0.000000</td>\n",
              "      <td>1.000000</td>\n",
              "      <td>0.010000</td>\n",
              "      <td>0.000000</td>\n",
              "    </tr>\n",
              "    <tr>\n",
              "      <th>50%</th>\n",
              "      <td>0.000000</td>\n",
              "      <td>1.000000</td>\n",
              "      <td>5.000000</td>\n",
              "      <td>0.000000</td>\n",
              "      <td>3.000000</td>\n",
              "      <td>0.000000</td>\n",
              "      <td>0.000000</td>\n",
              "      <td>0.000000</td>\n",
              "      <td>0.000000</td>\n",
              "      <td>0.000000</td>\n",
              "      <td>...</td>\n",
              "      <td>1.000000</td>\n",
              "      <td>1.000000</td>\n",
              "      <td>6.500000</td>\n",
              "      <td>0.000000</td>\n",
              "      <td>1.000000</td>\n",
              "      <td>0.100000</td>\n",
              "      <td>0.000000</td>\n",
              "      <td>1.000000</td>\n",
              "      <td>0.010000</td>\n",
              "      <td>0.000000</td>\n",
              "    </tr>\n",
              "    <tr>\n",
              "      <th>75%</th>\n",
              "      <td>1.000000</td>\n",
              "      <td>1.000000</td>\n",
              "      <td>9.000000</td>\n",
              "      <td>0.000000</td>\n",
              "      <td>5.000000</td>\n",
              "      <td>0.000000</td>\n",
              "      <td>0.000000</td>\n",
              "      <td>0.000000</td>\n",
              "      <td>0.000000</td>\n",
              "      <td>0.000000</td>\n",
              "      <td>...</td>\n",
              "      <td>1.000000</td>\n",
              "      <td>1.000000</td>\n",
              "      <td>16.000000</td>\n",
              "      <td>1.000000</td>\n",
              "      <td>1.000000</td>\n",
              "      <td>0.400000</td>\n",
              "      <td>1.000000</td>\n",
              "      <td>1.000000</td>\n",
              "      <td>0.020000</td>\n",
              "      <td>0.000000</td>\n",
              "    </tr>\n",
              "    <tr>\n",
              "      <th>max</th>\n",
              "      <td>1.000000</td>\n",
              "      <td>1.000000</td>\n",
              "      <td>56.000000</td>\n",
              "      <td>1.000000</td>\n",
              "      <td>11.000000</td>\n",
              "      <td>1.000000</td>\n",
              "      <td>2.000000</td>\n",
              "      <td>1.000000</td>\n",
              "      <td>1.000000</td>\n",
              "      <td>1.000000</td>\n",
              "      <td>...</td>\n",
              "      <td>1.000000</td>\n",
              "      <td>1.000000</td>\n",
              "      <td>100.000100</td>\n",
              "      <td>1.000000</td>\n",
              "      <td>1.000000</td>\n",
              "      <td>50.000100</td>\n",
              "      <td>1.000000</td>\n",
              "      <td>1.000000</td>\n",
              "      <td>9.560000</td>\n",
              "      <td>1.000000</td>\n",
              "    </tr>\n",
              "  </tbody>\n",
              "</table>\n",
              "<p>8 rows × 80 columns</p>\n",
              "</div>\n",
              "      <button class=\"colab-df-convert\" onclick=\"convertToInteractive('df-0a13d8b0-a10b-4844-8e9f-73404a698ffa')\"\n",
              "              title=\"Convert this dataframe to an interactive table.\"\n",
              "              style=\"display:none;\">\n",
              "        \n",
              "  <svg xmlns=\"http://www.w3.org/2000/svg\" height=\"24px\"viewBox=\"0 0 24 24\"\n",
              "       width=\"24px\">\n",
              "    <path d=\"M0 0h24v24H0V0z\" fill=\"none\"/>\n",
              "    <path d=\"M18.56 5.44l.94 2.06.94-2.06 2.06-.94-2.06-.94-.94-2.06-.94 2.06-2.06.94zm-11 1L8.5 8.5l.94-2.06 2.06-.94-2.06-.94L8.5 2.5l-.94 2.06-2.06.94zm10 10l.94 2.06.94-2.06 2.06-.94-2.06-.94-.94-2.06-.94 2.06-2.06.94z\"/><path d=\"M17.41 7.96l-1.37-1.37c-.4-.4-.92-.59-1.43-.59-.52 0-1.04.2-1.43.59L10.3 9.45l-7.72 7.72c-.78.78-.78 2.05 0 2.83L4 21.41c.39.39.9.59 1.41.59.51 0 1.02-.2 1.41-.59l7.78-7.78 2.81-2.81c.8-.78.8-2.07 0-2.86zM5.41 20L4 18.59l7.72-7.72 1.47 1.35L5.41 20z\"/>\n",
              "  </svg>\n",
              "      </button>\n",
              "      \n",
              "  <style>\n",
              "    .colab-df-container {\n",
              "      display:flex;\n",
              "      flex-wrap:wrap;\n",
              "      gap: 12px;\n",
              "    }\n",
              "\n",
              "    .colab-df-convert {\n",
              "      background-color: #E8F0FE;\n",
              "      border: none;\n",
              "      border-radius: 50%;\n",
              "      cursor: pointer;\n",
              "      display: none;\n",
              "      fill: #1967D2;\n",
              "      height: 32px;\n",
              "      padding: 0 0 0 0;\n",
              "      width: 32px;\n",
              "    }\n",
              "\n",
              "    .colab-df-convert:hover {\n",
              "      background-color: #E2EBFA;\n",
              "      box-shadow: 0px 1px 2px rgba(60, 64, 67, 0.3), 0px 1px 3px 1px rgba(60, 64, 67, 0.15);\n",
              "      fill: #174EA6;\n",
              "    }\n",
              "\n",
              "    [theme=dark] .colab-df-convert {\n",
              "      background-color: #3B4455;\n",
              "      fill: #D2E3FC;\n",
              "    }\n",
              "\n",
              "    [theme=dark] .colab-df-convert:hover {\n",
              "      background-color: #434B5C;\n",
              "      box-shadow: 0px 1px 3px 1px rgba(0, 0, 0, 0.15);\n",
              "      filter: drop-shadow(0px 1px 2px rgba(0, 0, 0, 0.3));\n",
              "      fill: #FFFFFF;\n",
              "    }\n",
              "  </style>\n",
              "\n",
              "      <script>\n",
              "        const buttonEl =\n",
              "          document.querySelector('#df-0a13d8b0-a10b-4844-8e9f-73404a698ffa button.colab-df-convert');\n",
              "        buttonEl.style.display =\n",
              "          google.colab.kernel.accessAllowed ? 'block' : 'none';\n",
              "\n",
              "        async function convertToInteractive(key) {\n",
              "          const element = document.querySelector('#df-0a13d8b0-a10b-4844-8e9f-73404a698ffa');\n",
              "          const dataTable =\n",
              "            await google.colab.kernel.invokeFunction('convertToInteractive',\n",
              "                                                     [key], {});\n",
              "          if (!dataTable) return;\n",
              "\n",
              "          const docLinkHtml = 'Like what you see? Visit the ' +\n",
              "            '<a target=\"_blank\" href=https://colab.research.google.com/notebooks/data_table.ipynb>data table notebook</a>'\n",
              "            + ' to learn more about interactive tables.';\n",
              "          element.innerHTML = '';\n",
              "          dataTable['output_type'] = 'display_data';\n",
              "          await google.colab.output.renderOutput(dataTable, element);\n",
              "          const docLink = document.createElement('div');\n",
              "          docLink.innerHTML = docLinkHtml;\n",
              "          element.appendChild(docLink);\n",
              "        }\n",
              "      </script>\n",
              "    </div>\n",
              "  </div>\n",
              "  "
            ]
          },
          "metadata": {},
          "execution_count": 10
        }
      ]
    },
    {
      "cell_type": "code",
      "source": [
        "from keras.models import Sequential\n",
        "from keras.layers import Dense\n",
        "import numpy as np\n",
        "from sklearn.preprocessing import StandardScaler\n",
        "from sklearn.model_selection import train_test_split"
      ],
      "metadata": {
        "id": "SAesbxENKXiH"
      },
      "execution_count": 20,
      "outputs": []
    },
    {
      "cell_type": "code",
      "source": [
        "#Devison de données dépondantes et indépondantes\n",
        "x = data.drop('Death',1)\n",
        "x = data.drop('Severity',1)\n",
        "\n",
        "y = data['Death']\n",
        "y = data['Death']\n"
      ],
      "metadata": {
        "colab": {
          "base_uri": "https://localhost:8080/"
        },
        "id": "mZ65DvN2UuGX",
        "outputId": "d70a7124-4a33-4581-c7ba-b87d2150ae4f"
      },
      "execution_count": 17,
      "outputs": [
        {
          "output_type": "stream",
          "name": "stderr",
          "text": [
            "/usr/local/lib/python3.7/dist-packages/ipykernel_launcher.py:2: FutureWarning: In a future version of pandas all arguments of DataFrame.drop except for the argument 'labels' will be keyword-only\n",
            "  \n",
            "/usr/local/lib/python3.7/dist-packages/ipykernel_launcher.py:3: FutureWarning: In a future version of pandas all arguments of DataFrame.drop except for the argument 'labels' will be keyword-only\n",
            "  This is separate from the ipykernel package so we can avoid doing imports until\n"
          ]
        }
      ]
    },
    {
      "cell_type": "code",
      "source": [
        ""
      ],
      "metadata": {
        "id": "AI15XK2xYwx-"
      },
      "execution_count": null,
      "outputs": []
    },
    {
      "cell_type": "code",
      "source": [
        "\n",
        "#standarisation des données\n",
        "x = data.drop('Age',1)\n",
        "scaler = StandardScaler();\n",
        "x_scaled = scaler.fit_transform(x)\n",
        "x_scaled\n"
      ],
      "metadata": {
        "colab": {
          "base_uri": "https://localhost:8080/"
        },
        "id": "qFb0G2wzXNTk",
        "outputId": "0e598d75-1cda-4b2f-b280-18f4cce24d7d"
      },
      "execution_count": 21,
      "outputs": [
        {
          "output_type": "stream",
          "name": "stderr",
          "text": [
            "/usr/local/lib/python3.7/dist-packages/ipykernel_launcher.py:3: FutureWarning: In a future version of pandas all arguments of DataFrame.drop except for the argument 'labels' will be keyword-only\n",
            "  This is separate from the ipykernel package so we can avoid doing imports until\n"
          ]
        },
        {
          "output_type": "execute_result",
          "data": {
            "text/plain": [
              "array([[ 1.00063701,  0.27934215, -0.87640231, ...,  0.39685496,\n",
              "        -0.15499055, -0.3249754 ],\n",
              "       [ 1.00063701,  0.27934215, -0.73413528, ...,  0.39685496,\n",
              "         4.28313254,  3.07715597],\n",
              "       [ 1.00063701,  0.27934215, -0.73413528, ..., -2.51981229,\n",
              "        -0.1922857 , -0.3249754 ],\n",
              "       ...,\n",
              "       [-0.9993634 , -3.57983928, -1.01866933, ..., -2.51981229,\n",
              "        -0.1922857 , -0.3249754 ],\n",
              "       [-0.9993634 , -3.57983928, -1.01866933, ...,  0.39685496,\n",
              "        -0.15499055, -0.3249754 ],\n",
              "       [-0.9993634 , -3.57983928, -1.01866933, ..., -2.51981229,\n",
              "        -0.1922857 , -0.3249754 ]])"
            ]
          },
          "metadata": {},
          "execution_count": 21
        }
      ]
    },
    {
      "cell_type": "code",
      "source": [
        "print('x', x.shape)"
      ],
      "metadata": {
        "colab": {
          "base_uri": "https://localhost:8080/"
        },
        "id": "0kZ70bCASU10",
        "outputId": "8f2f75a4-11ca-4243-bd90-fce2d0655b43"
      },
      "execution_count": 22,
      "outputs": [
        {
          "output_type": "stream",
          "name": "stdout",
          "text": [
            "x (4711, 80)\n"
          ]
        }
      ]
    },
    {
      "cell_type": "code",
      "source": [
        "print('y', y.shape)"
      ],
      "metadata": {
        "colab": {
          "base_uri": "https://localhost:8080/"
        },
        "id": "lfBlXuF_Seoi",
        "outputId": "30c1a43d-b2ba-46a6-fa6c-f17d11f5ef8d"
      },
      "execution_count": 23,
      "outputs": [
        {
          "output_type": "stream",
          "name": "stdout",
          "text": [
            "y (4711,)\n"
          ]
        }
      ]
    },
    {
      "cell_type": "code",
      "source": [
        "#Créer une validation croisée stratifiée\n",
        "from sklearn.model_selection import StratifiedKFold\n",
        "#DECOMPOSITION \n",
        "random_state = 0\n",
        "cross_validation = StratifiedKFold(n_splits=3, random_state=random_state, shuffle=True)\n",
        "\n",
        "#la validation croisée est appliqué pour x et y\n",
        "for train_index, test_index in cross_validation.split(x, y):\n",
        "    X_train = x.iloc[train_index]\n",
        "    X_test = x.iloc[test_index]\n",
        "    print('Train', X_train.shape, 'Test', X_test.shape)"
      ],
      "metadata": {
        "colab": {
          "base_uri": "https://localhost:8080/"
        },
        "id": "dx2KeVHRSqw2",
        "outputId": "32387f47-ca8c-4360-d7eb-2a872ce13adb"
      },
      "execution_count": 32,
      "outputs": [
        {
          "output_type": "stream",
          "name": "stdout",
          "text": [
            "Train (3140, 80) Test (1571, 80)\n",
            "Train (3141, 80) Test (1570, 80)\n",
            "Train (3141, 80) Test (1570, 80)\n"
          ]
        }
      ]
    },
    {
      "cell_type": "code",
      "source": [
        "#Calcul detaillé complet de la méthode de validation croisée\n",
        "from sklearn.preprocessing import StandardScaler\n",
        "from sklearn.svm import SVC\n",
        "from sklearn import metrics\n",
        "#normaliser les données\n",
        "scaler = StandardScaler()\n",
        "classifier = SVC(kernel='linear', random_state=random_state, class_weight='balanced')\n",
        "\n",
        "#performance : exactitude , suite vide pour l'instant\n",
        "accuracy = pd.Series(dtype=float)\n",
        "\n",
        "iteration = 0\n",
        "for train_index, test_index in cross_validation.split(x, y):\n",
        "    \n",
        "    iteration += 1 # short version of \"iteration = iteration + 1\"\n",
        "    \n",
        "    # Train dataset\n",
        "    X_train = x.iloc[train_index]\n",
        "    y_train = y.iloc[train_index]\n",
        "    \n",
        "    # Test dataset\n",
        "    X_test = x.iloc[test_index]\n",
        "    y_test = y.iloc[test_index]\n",
        "    \n",
        "    # Scaled data\n",
        "    X_train_scaled = scaler.fit_transform(X_train)\n",
        "    X_test_scaled = scaler.transform(X_test) # transform only!\n",
        "    \n",
        "    # Train ML classifier\n",
        "    classifier.fit(X_train_scaled, y_train)\n",
        "    \n",
        "    # Prediction\n",
        "    y_pred_test = classifier.predict(X_test_scaled)\n",
        "    \n",
        "    # Accuracy\n",
        "    accuracy_test = metrics.accuracy_score(y_test, y_pred_test) \n",
        "    accuracy.loc[iteration] = accuracy_test\n",
        "    \n",
        "    # Display\n",
        "    print('Iteration', iteration, 'Accuracy =', '{:.8f}'.format(accuracy_test))\n",
        "\n",
        "print('Mean accuracy', '{:.3f}'.format(accuracy.mean())) "
      ],
      "metadata": {
        "colab": {
          "base_uri": "https://localhost:8080/"
        },
        "id": "28ohYEKtUDo3",
        "outputId": "69c268f4-d279-49d1-91d9-dae89d5d18ce"
      },
      "execution_count": 30,
      "outputs": [
        {
          "output_type": "stream",
          "name": "stdout",
          "text": [
            "Iteration 1 Accuracy = 1.00000000\n",
            "Iteration 2 Accuracy = 1.00000000\n",
            "Iteration 3 Accuracy = 1.00000000\n",
            "Mean accuracy 1.000\n"
          ]
        }
      ]
    },
    {
      "cell_type": "code",
      "source": [
        "from statistics import mean, stdev \n",
        "from sklearn import preprocessing \n",
        "from sklearn.model_selection import StratifiedKFold \n",
        "from sklearn import linear_model \n",
        "from sklearn import datasets \n",
        "\n",
        "# Train dataset\n",
        "X_train = x.iloc[train_index]\n",
        "y_train = y.iloc[train_index]\n",
        "  \n",
        "# Test dataset\n",
        "X_test = x.iloc[test_index]\n",
        "y_test = y.iloc[test_index]\n",
        "  \n",
        "# Scaled data\n",
        "X_train_scaled = scaler.fit_transform(X_train)\n",
        "X_test_scaled = scaler.transform(X_test) # transform only!\n",
        "lr = linear_model.LogisticRegression() \n",
        "\n",
        "skf = StratifiedKFold(n_splits=10, shuffle=True, random_state=1) \n",
        "\n",
        "lst_accu_stratified = [] \n",
        "\n",
        "   \n",
        "for train_index, test_index in skf.split(x, y): \n",
        "    x_train_fold, x_test_fold = x_scaled[train_index], x_scaled[test_index] \n",
        "    y_train_fold, y_test_fold = y[train_index], y[test_index] \n",
        "    lr.fit(x_train_fold, y_train_fold) \n",
        "    lst_accu_stratified.append(lr.score(x_test_fold, y_test_fold)) \n",
        "   \n",
        "print('List of possible accuracy:', lst_accu_stratified) \n",
        "print('\\nMaximum Accuracy That can be obtained from this model is:', \n",
        "      max(lst_accu_stratified)*100, '%') \n",
        "print('\\nMinimum Accuracy:', \n",
        "      min(lst_accu_stratified)*100, '%') \n",
        "print('\\nOverall Accuracy:', \n",
        "      mean(lst_accu_stratified)*100, '%') \n",
        "print('\\nStandard Deviation is:', stdev(lst_accu_stratified)) "
      ],
      "metadata": {
        "colab": {
          "base_uri": "https://localhost:8080/"
        },
        "id": "1OqFR4ijY1sL",
        "outputId": "155765a8-0442-4141-a08e-93ad82e5e7f5"
      },
      "execution_count": 33,
      "outputs": [
        {
          "output_type": "stream",
          "name": "stdout",
          "text": [
            "List of possible accuracy: [1.0, 1.0, 1.0, 1.0, 1.0, 1.0, 1.0, 1.0, 1.0, 1.0]\n",
            "\n",
            "Maximum Accuracy That can be obtained from this model is: 100.0 %\n",
            "\n",
            "Minimum Accuracy: 100.0 %\n",
            "\n",
            "Overall Accuracy: 100.0 %\n",
            "\n",
            "Standard Deviation is: 0.0\n"
          ]
        }
      ]
    },
    {
      "cell_type": "code",
      "source": [
        "#Pipeline\n",
        "from sklearn.pipeline import Pipeline\n",
        "from sklearn.model_selection import cross_val_score\n",
        "\n",
        "pipeline = Pipeline([('scaler', scaler), ('classifier', classifier)])\n",
        "\n",
        "accuracy = cross_val_score(pipeline, x, y, cv=cross_validation)\n",
        "print(accuracy)\n",
        "print('Mean test accuracy', '{:.3f}'.format(accuracy.mean()))"
      ],
      "metadata": {
        "colab": {
          "base_uri": "https://localhost:8080/"
        },
        "id": "YRY2x1aKWP_x",
        "outputId": "43fac5a7-b7e1-4963-c329-5b0b558f6590"
      },
      "execution_count": 31,
      "outputs": [
        {
          "output_type": "stream",
          "name": "stdout",
          "text": [
            "[1. 1. 1.]\n",
            "Mean test accuracy 1.000\n"
          ]
        }
      ]
    },
    {
      "cell_type": "code",
      "source": [
        "#Définir les données de test et d'entrainement , test pour verifier la presision de notre reseau /entraiement : nos data d'entrées\n",
        "x_train, x_test, y_train, y_test = train_test_split(x_scaled, y, test_size=0.2, random_state= 42)\n",
        "\n",
        "\n"
      ],
      "metadata": {
        "id": "U3IOA3IvZtX8"
      },
      "execution_count": null,
      "outputs": []
    },
    {
      "cell_type": "code",
      "source": [
        "print(x_train.shape,x_test.shape)\n"
      ],
      "metadata": {
        "colab": {
          "base_uri": "https://localhost:8080/"
        },
        "id": "hVXRp9Akbmki",
        "outputId": "9572c9d1-546f-4c1d-d95f-e7d0dd6ea358"
      },
      "execution_count": null,
      "outputs": [
        {
          "output_type": "stream",
          "name": "stdout",
          "text": [
            "(3768, 80) (943, 80)\n"
          ]
        }
      ]
    },
    {
      "cell_type": "code",
      "source": [
        "#creation du reseau de neurones \n",
        "model = tf.keras.models.Sequential()\n"
      ],
      "metadata": {
        "id": "HOBzfNPucVNL"
      },
      "execution_count": null,
      "outputs": []
    },
    {
      "cell_type": "code",
      "source": [
        "#l'ajout d'une couche cachée avec la foncton d'activation relu avec 80 attributs d'entrées\n",
        "model.add(tf.keras.layers.Dense(units=40,activation='relu',kernel_initializer='uniform',input_dim=80))\n",
        "\n"
      ],
      "metadata": {
        "id": "dbdxvgadd7q8"
      },
      "execution_count": null,
      "outputs": []
    },
    {
      "cell_type": "code",
      "source": [
        "#l'ajout d'une couche de sortie\n",
        "model.add(tf.keras.layers.Dense(1, activation='sigmoid',kernel_initializer='uniform'))"
      ],
      "metadata": {
        "id": "xWCRwzPdfhni"
      },
      "execution_count": null,
      "outputs": []
    },
    {
      "cell_type": "code",
      "source": [
        "#la compilation \n",
        "model.compile(loss='binary_crossentropy', optimizer='adam', metrics=['binary_accuracy'])\n"
      ],
      "metadata": {
        "id": "cpNyrPnVgA3W"
      },
      "execution_count": null,
      "outputs": []
    },
    {
      "cell_type": "code",
      "source": [
        "model.summary()"
      ],
      "metadata": {
        "colab": {
          "base_uri": "https://localhost:8080/"
        },
        "id": "oi331yVmgV51",
        "outputId": "9074bd58-873d-466e-d31f-8436ce058525"
      },
      "execution_count": null,
      "outputs": [
        {
          "output_type": "stream",
          "name": "stdout",
          "text": [
            "Model: \"sequential_1\"\n",
            "_________________________________________________________________\n",
            " Layer (type)                Output Shape              Param #   \n",
            "=================================================================\n",
            " dense (Dense)               (None, 40)                3240      \n",
            "                                                                 \n",
            " dense_1 (Dense)             (None, 1)                 41        \n",
            "                                                                 \n",
            "=================================================================\n",
            "Total params: 3,281\n",
            "Trainable params: 3,281\n",
            "Non-trainable params: 0\n",
            "_________________________________________________________________\n"
          ]
        }
      ]
    },
    {
      "cell_type": "code",
      "source": [
        "  #appliquer le model sur nos données, en utilisant 10 patients , et epochs indique \n",
        " #hist = model.fit(x_train,y_train,batch_size=100,epochs=10) \n",
        "\n",
        "hist = model.fit(x_train, y_train, validation_data=(x_test, y_test), epochs=10, batch_size=100)\n"
      ],
      "metadata": {
        "colab": {
          "base_uri": "https://localhost:8080/"
        },
        "id": "yBX0_Lsggk7I",
        "outputId": "6a4e03dc-76e8-4a1a-e37e-bc963db2cfc1"
      },
      "execution_count": null,
      "outputs": [
        {
          "output_type": "stream",
          "name": "stdout",
          "text": [
            "Epoch 1/10\n",
            "38/38 [==============================] - 1s 6ms/step - loss: 0.6299 - binary_accuracy: 0.7930 - val_loss: 0.5503 - val_binary_accuracy: 0.8155\n",
            "Epoch 2/10\n",
            "38/38 [==============================] - 0s 2ms/step - loss: 0.4612 - binary_accuracy: 0.8617 - val_loss: 0.4003 - val_binary_accuracy: 0.8579\n",
            "Epoch 3/10\n",
            "38/38 [==============================] - 0s 2ms/step - loss: 0.3330 - binary_accuracy: 0.8946 - val_loss: 0.3040 - val_binary_accuracy: 0.8876\n",
            "Epoch 4/10\n",
            "38/38 [==============================] - 0s 2ms/step - loss: 0.2454 - binary_accuracy: 0.9214 - val_loss: 0.2318 - val_binary_accuracy: 0.9183\n",
            "Epoch 5/10\n",
            "38/38 [==============================] - 0s 2ms/step - loss: 0.1781 - binary_accuracy: 0.9453 - val_loss: 0.1672 - val_binary_accuracy: 0.9533\n",
            "Epoch 6/10\n",
            "38/38 [==============================] - 0s 2ms/step - loss: 0.1225 - binary_accuracy: 0.9724 - val_loss: 0.1181 - val_binary_accuracy: 0.9745\n",
            "Epoch 7/10\n",
            "38/38 [==============================] - 0s 2ms/step - loss: 0.0804 - binary_accuracy: 0.9926 - val_loss: 0.0790 - val_binary_accuracy: 0.9915\n",
            "Epoch 8/10\n",
            "38/38 [==============================] - 0s 2ms/step - loss: 0.0534 - binary_accuracy: 0.9973 - val_loss: 0.0553 - val_binary_accuracy: 0.9947\n",
            "Epoch 9/10\n",
            "38/38 [==============================] - 0s 2ms/step - loss: 0.0366 - binary_accuracy: 0.9989 - val_loss: 0.0416 - val_binary_accuracy: 0.9958\n",
            "Epoch 10/10\n",
            "38/38 [==============================] - 0s 2ms/step - loss: 0.0261 - binary_accuracy: 0.9997 - val_loss: 0.0316 - val_binary_accuracy: 0.9958\n"
          ]
        }
      ]
    },
    {
      "cell_type": "code",
      "source": [
        "#tester le model, evaluer le model avec les données test\n",
        "test_loss,test_accuracy=model.evaluate(x_test,y_test)\n",
        "print(f'test_loss {test_loss} et test accuracy {test_accuracy}')\n"
      ],
      "metadata": {
        "colab": {
          "base_uri": "https://localhost:8080/"
        },
        "id": "KrHJUieSjSxu",
        "outputId": "0fe2fbbf-5089-4638-9cf2-4981f0d92ec5"
      },
      "execution_count": null,
      "outputs": [
        {
          "output_type": "stream",
          "name": "stdout",
          "text": [
            "30/30 [==============================] - 0s 974us/step - loss: 0.0316 - binary_accuracy: 0.9958\n",
            "test_loss 0.03160172700881958 et test accuracy 0.9957582354545593\n"
          ]
        }
      ]
    },
    {
      "cell_type": "code",
      "source": [
        "#visualisation\n",
        "import matplotlib.pyplot as plt\n",
        "%matplotlib inline\n",
        "import seaborn as sns\n",
        "sns.set()\n",
        "acc = hist.history['binary_accuracy']\n",
        "loss = hist.history['loss']\n",
        "epochs = range(1, len(acc) + 1)\n",
        "plt.plot(epochs, acc, '-', label='Training accuracy')\n",
        "plt.plot(epochs, loss, ':', label='Validation accuracy')\n",
        "plt.title('Training and Validation Accuracy')\n",
        "plt.xlabel('Epoch')\n",
        "plt.ylabel('Accuracy')\n",
        "plt.legend(loc='lower right')\n",
        "plt.plot()"
      ],
      "metadata": {
        "colab": {
          "base_uri": "https://localhost:8080/",
          "height": 319
        },
        "id": "BYD2vtYxlxNh",
        "outputId": "1b3121ce-7c28-4f9c-8c6c-18596d251d6d"
      },
      "execution_count": null,
      "outputs": [
        {
          "output_type": "execute_result",
          "data": {
            "text/plain": [
              "[]"
            ]
          },
          "metadata": {},
          "execution_count": 22
        },
        {
          "output_type": "display_data",
          "data": {
            "text/plain": [
              "<Figure size 432x288 with 1 Axes>"
            ],
            "image/png": "[encoded data removed]"
          },
          "metadata": {}
        }
      ]
    }
  ]
}